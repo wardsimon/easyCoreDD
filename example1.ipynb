{
 "cells": [
  {
   "cell_type": "markdown",
   "source": [
    "# Simple line example\n",
    "\n",
    "In this example we will examine the different ways of fitting a line using the easyCore framework.\n",
    "\n",
    "A line is defined by the parameters `m` and `c`, the gradient and intercept."
   ],
   "metadata": {
    "collapsed": false
   }
  },
  {
   "cell_type": "code",
   "execution_count": null,
   "outputs": [],
   "source": [
    "from easyCore import np\n",
    "from easyCore.Objects.ObjectClasses import Parameter, BaseObj\n",
    "from easyCore.Fitting.Fitting import Fitter\n",
    "import holoviews as hv\n",
    "hv.extension('bokeh')"
   ],
   "metadata": {
    "collapsed": false,
    "pycharm": {
     "is_executing": true
    }
   }
  },
  {
   "cell_type": "markdown",
   "source": [
    "## Using the `BaseObj` class directly\n",
    "\n",
    "The first way of using EasyCore, is to directly useing the `BaseObj` class.\n",
    "\n",
    "The `BaseObj` class is what most objects are based  off of. It takes either a child of the `Descriptor` or `BaseObj` class and integrates it as a variable in itself. For the example of a Line, we supply the `Parameters` _m_ and _c_."
   ],
   "metadata": {
    "collapsed": false
   }
  },
  {
   "cell_type": "code",
   "execution_count": null,
   "outputs": [],
   "source": [
    "Line = BaseObj('Line', m=Parameter('m', 1), c=Parameter('c', 1))"
   ],
   "metadata": {
    "collapsed": false
   }
  },
  {
   "cell_type": "markdown",
   "source": [
    "Since this is not a class, the calculation appears outside the definition."
   ],
   "metadata": {
    "collapsed": false
   }
  },
  {
   "cell_type": "code",
   "execution_count": null,
   "outputs": [],
   "source": [
    "def line_func(line_obj, x):\n",
    "    return line_obj.m.raw_value * x + line_obj.c.raw_value"
   ],
   "metadata": {
    "collapsed": false
   }
  },
  {
   "cell_type": "markdown",
   "source": [
    "Lets create some random data with a normal distribution..."
   ],
   "metadata": {
    "collapsed": false
   }
  },
  {
   "cell_type": "code",
   "execution_count": null,
   "outputs": [],
   "source": [
    "x = np.linspace(0, 10, 101)\n",
    "real_m = 4.5\n",
    "real_c= 2.8\n",
    "y = real_m * x + real_c + 2*(1 - np.random.rand(x.size))"
   ],
   "metadata": {
    "collapsed": false,
    "pycharm": {
     "is_executing": true
    }
   }
  },
  {
   "cell_type": "code",
   "execution_count": null,
   "outputs": [],
   "source": [
    "hv.Curve((x, y), (x, line_func(Line, x)))"
   ],
   "metadata": {
    "collapsed": false
   }
  },
  {
   "cell_type": "markdown",
   "source": [
    "This can now be fitted using lmfits least squares algorith"
   ],
   "metadata": {
    "collapsed": false
   }
  },
  {
   "cell_type": "code",
   "execution_count": null,
   "outputs": [],
   "source": [
    "# Initialize the EasyCore fitter\n",
    "f = Fitter()\n",
    "# Set the object and function\n",
    "f.initialize(Line, line_func)\n",
    "f_res = f.fit(x, y)\n",
    "print(f_res.goodness_of_fit)"
   ],
   "metadata": {
    "collapsed": false
   }
  },
  {
   "cell_type": "markdown",
   "source": [
    "And display the results"
   ],
   "metadata": {
    "collapsed": false
   }
  },
  {
   "cell_type": "code",
   "execution_count": null,
   "outputs": [],
   "source": [
    "hv.Curve((x, y), (x, line_func(Line, x)))"
   ],
   "metadata": {
    "collapsed": false
   }
  },
  {
   "cell_type": "markdown",
   "source": [
    "## SubClassing `BaseObj`\n",
    "\n",
    "This is the preferred way of working with `Core` objects as you can keep everything contained.\n",
    "\n",
    "Lets redefine a line..."
   ],
   "metadata": {
    "collapsed": false
   }
  },
  {
   "cell_type": "code",
   "execution_count": null,
   "outputs": [],
   "source": [
    "from typing import Optional, Union # We like typing, it helps everyone code :-)\n",
    "\n",
    "\n",
    "class Line(BaseObj):\n",
    "    def __init__(self, m: Optional[Union[Parameter, float]] = None, c: Optional[Union[Parameter, float]] = None):\n",
    "        super(Line, self).__init__('Line', m=Parameter('m', 1.0), c=Parameter('c', 1.0))\n",
    "        if m:\n",
    "            self.m = m\n",
    "        if c:\n",
    "            self.c = c\n",
    "    def __call__(self, x, *args, **kwargs):\n",
    "        return self.m.raw_value * x + self.c.raw_value"
   ],
   "metadata": {
    "collapsed": false,
    "pycharm": {
     "is_executing": true
    }
   }
  },
  {
   "cell_type": "markdown",
   "source": [
    "We have now created an EasyCore class called `Line` which has inherited all the useful functions of `BaseObj`. For example..."
   ],
   "metadata": {
    "collapsed": false
   }
  },
  {
   "cell_type": "code",
   "execution_count": null,
   "outputs": [],
   "source": [
    "l1 = Line(2, 3)\n",
    "print(l1)"
   ],
   "metadata": {
    "collapsed": false,
    "pycharm": {
     "is_executing": true
    }
   }
  },
  {
   "cell_type": "code",
   "execution_count": null,
   "outputs": [],
   "source": [
    "l1.get_fit_parameters()"
   ],
   "metadata": {
    "collapsed": false,
    "pycharm": {
     "is_executing": true
    }
   }
  },
  {
   "cell_type": "markdown",
   "source": [
    "And access all components"
   ],
   "metadata": {
    "collapsed": false
   }
  },
  {
   "cell_type": "code",
   "execution_count": null,
   "outputs": [],
   "source": [
    "print(l1.m)\n",
    "print(l1.c)"
   ],
   "metadata": {
    "collapsed": false,
    "pycharm": {
     "is_executing": true
    }
   }
  },
  {
   "cell_type": "markdown",
   "source": [
    "Now fitting is just:"
   ],
   "metadata": {
    "collapsed": false
   }
  },
  {
   "cell_type": "code",
   "execution_count": null,
   "outputs": [],
   "source": [
    "f = Fitter(l1, l1.__call__)\n",
    "f_res = f.fit(x, y)\n",
    "print(f_res.goodness_of_fit)\n",
    "hv.Curve((x, y), (x, l1(x)))"
   ],
   "metadata": {
    "collapsed": false
   }
  },
  {
   "cell_type": "code",
   "execution_count": null,
   "outputs": [],
   "source": [
    "print(l1)"
   ],
   "metadata": {
    "collapsed": false
   }
  },
  {
   "cell_type": "markdown",
   "source": [
    "## using a different minimizer\n",
    "\n",
    "By default, `EasyCore` has all minimizers in the `lmfit` package. But interfaces to the `bumps` and `DFO_LS` and their associated minimizers also exist. It is relatively simple to use them. In this example we will use the Dream minimizer in the `bumps` package."
   ],
   "metadata": {
    "collapsed": false
   }
  },
  {
   "cell_type": "code",
   "execution_count": null,
   "outputs": [],
   "source": [
    "l2 = Line()\n",
    "f = Fitter(l2, l2.__call__)\n",
    "f.switch_engine('bumps')\n",
    "method = 'dream'\n",
    "dream_kwargs = {\n",
    "    k: v for k, v in [('samples', 10000), ('burn', 100), ('pop', 10), ('init', 'eps'), ('thin', 1), ('alpha', 0.01), ('outliers', 'none'), ('trim', False), ('steps', 0)]\n",
    "}\n",
    "\n",
    "f_res = f.fit(x, y, method='dream', minimizer_kwargs=dream_kwargs)"
   ],
   "metadata": {
    "collapsed": false
   }
  },
  {
   "cell_type": "markdown",
   "source": [
    "The results of which are:"
   ],
   "metadata": {
    "collapsed": false
   }
  },
  {
   "cell_type": "code",
   "execution_count": null,
   "outputs": [],
   "source": [
    "print(f_res.goodness_of_fit)\n",
    "hv.Curve((x, y), (x, l2(x)))"
   ],
   "metadata": {
    "collapsed": false
   }
  }
 ],
 "metadata": {
  "kernelspec": {
   "display_name": "Python 3",
   "language": "python",
   "name": "python3"
  },
  "language_info": {
   "codemirror_mode": {
    "name": "ipython",
    "version": 2
   },
   "file_extension": ".py",
   "mimetype": "text/x-python",
   "name": "python",
   "nbconvert_exporter": "python",
   "pygments_lexer": "ipython2",
   "version": "2.7.6"
  }
 },
 "nbformat": 4,
 "nbformat_minor": 0
}
