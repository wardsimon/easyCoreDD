{
 "cells": [
  {
   "cell_type": "markdown",
   "source": [
    "# Using the `xarray` interface\n",
    "\n",
    "Performing optimizations in multiple dimensions is a part of life. Luckily this can be done as easily as the previous example."
   ],
   "metadata": {
    "collapsed": false
   }
  },
  {
   "cell_type": "code",
   "execution_count": null,
   "outputs": [],
   "source": [
    "from easyCore import np\n",
    "from easyCore.Datasets.xarray import xr\n",
    "from easyCore.Objects.ObjectClasses import Parameter, BaseObj\n",
    "from easyCore.Fitting.Fitting import Fitter\n",
    "import holoviews as hv\n",
    "import matplotlib.pyplot as plt\n",
    "hv.extension('bokeh')"
   ],
   "metadata": {
    "collapsed": false
   }
  },
  {
   "cell_type": "markdown",
   "source": [
    "## Creating a dataset\n",
    "\n",
    "We will creat some dummy data, in this case a 2D plot of Sine's and Cose's"
   ],
   "metadata": {
    "collapsed": false
   }
  },
  {
   "cell_type": "code",
   "execution_count": null,
   "outputs": [],
   "source": [
    "d = xr.Dataset()\n",
    "\n",
    "nx = 5E2\n",
    "x_min = 0\n",
    "x_max = np.pi\n",
    "\n",
    "sin_offest = - 0.35\n",
    "cos_offset = 0.14\n",
    "\n",
    "x = np.linspace(x_min, x_max, num=int(nx))\n",
    "y = x + 1\n",
    "\n",
    "d.easyCore.add_coordinate('x', x)\n",
    "d.easyCore.add_coordinate('y', y)\n",
    "d.easyCore.add_variable('z', ['x', 'y'], np.sin(2*np.pi*(x + sin_offest)).reshape((-1, 1))*np.cos(2*np.pi*(x + cos_offset)).reshape((1, -1)) + 2*(0.5 - np.random.random(size=(int(nx), int(nx)))))\n",
    "\n",
    "s_off_start_point = 0\n",
    "c_off_start_point = 0"
   ],
   "metadata": {
    "collapsed": false
   }
  },
  {
   "cell_type": "markdown",
   "source": [
    "## Make the object and perform a fit"
   ],
   "metadata": {
    "collapsed": false
   }
  },
  {
   "cell_type": "code",
   "execution_count": null,
   "outputs": [],
   "source": [
    "b = BaseObj('SinCos2D',\n",
    "            s_off=Parameter('s_off', s_off_start_point),\n",
    "            c_off=Parameter('c_off', c_off_start_point))\n",
    "\n",
    "\n",
    "def fit_fun(x, *args, **kwargs):\n",
    "    # In the real case we would gust call the evaluation fn without reference to the BaseObj\n",
    "    return np.sin(2*np.pi*(x[:, 0] + b.s_off.raw_value)) * np.cos(2*np.pi*(x[:, 1] + b.c_off.raw_value))\n",
    "\n",
    "\n",
    "f = Fitter()\n",
    "f.initialize(b, fit_fun)\n",
    "\n",
    "f_res = d['z'].easyCore.fit(f)"
   ],
   "metadata": {
    "collapsed": false
   }
  },
  {
   "cell_type": "code",
   "execution_count": null,
   "outputs": [],
   "source": [
    "d['computed'] = f_res.y_calc\n",
    "temp = d['z'] - d['computed']\n",
    "\n",
    "print(f_res.p0)\n",
    "print(f_res.p)\n",
    "\n",
    "fig, axes = plt.subplots(ncols=2, nrows=2)\n",
    "d['z'].plot(ax=axes[0, 0])\n",
    "d['computed'].plot(ax=axes[0, 1])\n",
    "temp.plot(ax=axes[1, 0])\n",
    "plt.tight_layout()\n",
    "plt.show()"
   ],
   "metadata": {
    "collapsed": false
   }
  }
 ],
 "metadata": {
  "kernelspec": {
   "display_name": "Python 3",
   "language": "python",
   "name": "python3"
  },
  "language_info": {
   "codemirror_mode": {
    "name": "ipython",
    "version": 2
   },
   "file_extension": ".py",
   "mimetype": "text/x-python",
   "name": "python",
   "nbconvert_exporter": "python",
   "pygments_lexer": "ipython2",
   "version": "2.7.6"
  }
 },
 "nbformat": 4,
 "nbformat_minor": 0
}
